{
 "cells": [
  {
   "cell_type": "code",
   "execution_count": 7,
   "metadata": {},
   "outputs": [],
   "source": [
    "\n",
    "import re\n",
    "from collections import defaultdict, Counter\n",
    "from itertools import groupby\n",
    "from nltk import flatten\n",
    "from nltk.util import trigrams as get_trigrams\n",
    "\n",
    "def make_bigram_dict():\n",
    "    this_dict = defaultdict(Counter)\n",
    "    return this_dict\n"
   ]
  },
  {
   "cell_type": "code",
   "execution_count": 30,
   "metadata": {},
   "outputs": [],
   "source": []
  },
  {
   "cell_type": "code",
   "execution_count": 34,
   "metadata": {},
   "outputs": [
    {
     "data": {
      "text/plain": [
       "{'A': {'c': Counter({('d', 'a'): 1,\n",
       "           ('h', 'g'): 1,\n",
       "           ('a', 'o'): 1,\n",
       "           ('c', 'a'): 1}),\n",
       "  'b': Counter({('c', 'd'): 1,\n",
       "           ('c', 'h'): 1,\n",
       "           ('c', 'c'): 1,\n",
       "           ('e', 'b'): 1,\n",
       "           ('z', 'y'): 1}),\n",
       "  'e': Counter({('b', 'c'): 1}),\n",
       "  'f': Counter({('b', 'e'): 1}),\n",
       "  'g': Counter({('f', 'b'): 1}),\n",
       "  'h': Counter({('g', 'f'): 1}),\n",
       "  'i': Counter({('b', 'c'): 1}),\n",
       "  'j': Counter({('i', 'b'): 1}),\n",
       "  'k': Counter({('j', 'i'): 1}),\n",
       "  'a': Counter({('k', 'j'): 1, ('o', 'n'): 1, ('q', 'r'): 1, ('n', 'z'): 1}),\n",
       "  'y': Counter({('a', 'k'): 1}),\n",
       "  'z': Counter({('y', 'a'): 1, ('r', 'x'): 1}),\n",
       "  'n': Counter({('b', 'z'): 1, ('z', 'r'): 1}),\n",
       "  'o': Counter({('n', 'b'): 1}),\n",
       "  'p': Counter({('b', 'c'): 1}),\n",
       "  'q': Counter({('p', 'b'): 1, ('r', 'q'): 1}),\n",
       "  'r': Counter({('q', 'p'): 1, ('x', 'a'): 1}),\n",
       "  'x': Counter({('a', 'q'): 1})},\n",
       " 'B': {'b': Counter({('i', 'y'): 1,\n",
       "           ('r', 'q'): 1,\n",
       "           ('c', 'x'): 1,\n",
       "           ('q', 'p'): 1,\n",
       "           ('z', 'e'): 1}),\n",
       "  'c': Counter({('b', 'i'): 1, ('x', 'x'): 1}),\n",
       "  'p': Counter({('c', 'b'): 1, ('o', 'f'): 1}),\n",
       "  'x': Counter({('p', 'c'): 1, ('b', 'r'): 1, ('x', 'b'): 1}),\n",
       "  'e': Counter({('x', 'p'): 1, ('j', 'd'): 1}),\n",
       "  'j': Counter({('e', 'x'): 1, ('d', 'b'): 1}),\n",
       "  'd': Counter({('j', 'e'): 1, ('b', 'c'): 1, ('b', 'q'): 1, ('b', 'z'): 1}),\n",
       "  'g': Counter({('d', 'j'): 1}),\n",
       "  'n': Counter({('g', 'd'): 1}),\n",
       "  'k': Counter({('n', 'g'): 1}),\n",
       "  'q': Counter({('k', 'n'): 1, ('p', 'o'): 1}),\n",
       "  'r': Counter({('q', 'k'): 1}),\n",
       "  'y': Counter({('d', 'b'): 1}),\n",
       "  'z': Counter({('y', 'd'): 1, ('e', 'j'): 1}),\n",
       "  'f': Counter({('z', 'y'): 1}),\n",
       "  'o': Counter({('f', 'z'): 1})},\n",
       " 'C': {'i': Counter({('g', 'g'): 1}),\n",
       "  'o': Counter({('i', 'g'): 1, ('k', 'h'): 1}),\n",
       "  'r': Counter({('o', 'i'): 1, ('k', 'j'): 1, ('b', 'c'): 1}),\n",
       "  'j': Counter({('r', 'o'): 1, ('j', 'r'): 1, ('g', 'd'): 1, ('e', 'r'): 1}),\n",
       "  'b': Counter({('j', 'j'): 1, ('c', 'a'): 1, ('k', 'g'): 1}),\n",
       "  'c': Counter({('b', 'j'): 1, ('a', 'o'): 1}),\n",
       "  'd': Counter({('c', 'b'): 1, ('f', 'h'): 1, ('r', 'b'): 1}),\n",
       "  'g': Counter({('d', 'c'): 1, ('d', 'r'): 1, ('j', 'e'): 1}),\n",
       "  'k': Counter({('j', 'g'): 1, ('h', 'f'): 1, ('h', 'd'): 1, ('g', 'd'): 1}),\n",
       "  'e': Counter({('r', 'k'): 1}),\n",
       "  'f': Counter({('g', 'j'): 1, ('h', 'k'): 1}),\n",
       "  'h': Counter({('f', 'g'): 1, ('k', 'h'): 1, ('d', 'f'): 1}),\n",
       "  'a': Counter({('o', 'k'): 1})}}"
      ]
     },
     "execution_count": 34,
     "metadata": {},
     "output_type": "execute_result"
    }
   ],
   "source": [
    "trigram_merged_bw"
   ]
  },
  {
   "cell_type": "code",
   "execution_count": null,
   "metadata": {},
   "outputs": [],
   "source": [
    "\n",
    "    while True:\n",
    "        raw_lines = corpus_file.readlines(10000)\n",
    "        if not raw_lines:\n",
    "            break\n",
    "        org_items = groupby(raw_lines, key=lambda x: re.match(r'(^.)', x).group(1))\n",
    "        unigrams = {\n",
    "            key:[clean_bnc_line(line) for line in group] for key, group in org_items\n",
    "            }\n",
    "        for corpus, unigram_list in unigrams.items():\n",
    "            chunk_unigrams = flatten(unigram_list)\n",
    "            unigram_freqs[corpus].update(chunk_unigrams)\n",
    "        trigrams = {\n",
    "            key:[bigram for line in group for bigram in get_trigrams(line) if len(line) > 1]\n",
    "            for key, group in unigrams.items()\n",
    "            }\n",
    "        trigram_counts = {corpus: Counter(trigram_ocs) for corpus, trigram_ocs in trigrams.items()} #dunno if this step is necessary\n",
    "        for corpus, counts in trigram_counts.items():\n",
    "            for trigram, freq in counts.items():\n",
    "                trigram_fw[corpus][trigram[0]][trigram[1]].update([trigram[2]])\n",
    "                trigram_bw[corpus][trigram[2]][trigram[1]].update([trigram[0]])\n",
    "        i += 1\n",
    "        if verbose:\n",
    "            i += len(raw_lines)\n",
    "            print(f'{i} lines processed')\n",
    "print('Merging....')        \n",
    "trigram_merged_bw = {corpus: {this_c3: Counter({(this_c2, this_c1): freq for this_c2, c1_freqs in c2_freqs.items() for this_c1, freq in c1_freqs.items()})  for this_c3, c2_freqs in c3_freqs.items()} for corpus, c3_freqs in trigram_bw.items()}\n",
    "n_trigrams = [sum(bigram_freqs.values()) for corpus_freqs in trigram_merged_bw.values() for bigram_freqs in corpus_freqs.values()]\n",
    "n_trigrams = sum(n_trigrams)\n",
    "return (unigram_freqs, n_trigrams, trigram_fw, trigram_bw, trigram_merged_bw)\n"
   ]
  }
 ],
 "metadata": {
  "kernelspec": {
   "display_name": "mwu_measures",
   "language": "python",
   "name": "python3"
  },
  "language_info": {
   "codemirror_mode": {
    "name": "ipython",
    "version": 3
   },
   "file_extension": ".py",
   "mimetype": "text/x-python",
   "name": "python",
   "nbconvert_exporter": "python",
   "pygments_lexer": "ipython3",
   "version": "3.12.3"
  }
 },
 "nbformat": 4,
 "nbformat_minor": 2
}

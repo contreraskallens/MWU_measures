{
 "cells": [
  {
   "cell_type": "code",
   "execution_count": 1,
   "metadata": {},
   "outputs": [
    {
     "name": "stdout",
     "output_type": "stream",
     "text": [
      "Merging....\n"
     ]
    }
   ],
   "source": [
    "import mwu_measures.processing_corpus\n",
    "\n",
    "mwu_measures.processing_corpus.process_corpus(corpus='bnc', corpus_dir='small_corpus.txt', verbose=False, chunk_size=100000)"
   ]
  },
  {
   "cell_type": "code",
   "execution_count": 2,
   "metadata": {},
   "outputs": [],
   "source": [
    "from collections import defaultdict, Counter\n",
    "import numpy as np\n",
    "import pandas as pd\n",
    "from multiprocessing import cpu_count\n",
    "# from multiprocessing import Pool, cpu_count\n",
    "# from itertools import repeat\n",
    "from joblib import Parallel, delayed, parallel_config\n",
    "from functools import partial\n",
    "from mwu_measures.compute_functions import min_max_norm\n",
    "from mwu_measures import compute_functions\n",
    "from mwu_measures import processing_corpus\n",
    "CONSOLIDATED_FW = None\n",
    "CONSOLIDATED_BW = None"
   ]
  },
  {
   "cell_type": "code",
   "execution_count": 11,
   "metadata": {},
   "outputs": [],
   "source": [
    "ngram = ('in the world')"
   ]
  },
  {
   "cell_type": "code",
   "execution_count": 12,
   "metadata": {},
   "outputs": [],
   "source": [
    "\"\"\"\n",
    "Function for computing the MWU measures for a target ngram. \n",
    ":param ngram: A string with the ngram to be analyzed.\n",
    ":returns: A dictionary with all MWU measures obtained:\n",
    "    Token frequency, dispersion, type frequency for each slot,\n",
    "    entropy difference for each slot, both directions of \n",
    "    association.\n",
    "\"\"\"\n",
    "comps = ngram.split(' ')\n",
    "comp_1 = comps[0]\n",
    "comp_2 = comps[1]\n",
    "comp_3 = comps[2]"
   ]
  },
  {
   "cell_type": "code",
   "execution_count": 13,
   "metadata": {},
   "outputs": [],
   "source": [
    "forward_dict = processing_corpus.TRIGRAM_FW\n",
    "backward_dict = processing_corpus.TRIGRAM_BW\n",
    "backward_merged = processing_corpus.TRIGRAM_MERGED_BW\n",
    "corpus_proportions = processing_corpus.CORPUS_PROPORTIONS"
   ]
  },
  {
   "cell_type": "code",
   "execution_count": 14,
   "metadata": {},
   "outputs": [],
   "source": [
    "trigram_freq = [(corpus, corpus_dict.get(comp_1, pd.Series(0)).get(comp_2, pd.Series(0)).get(comp_3, 0)) for\n",
    "    corpus, corpus_dict in forward_dict.items()]\n",
    "token_freq = sum(freqs[1] for freqs in trigram_freq)"
   ]
  },
  {
   "cell_type": "code",
   "execution_count": 15,
   "metadata": {},
   "outputs": [],
   "source": [
    "def get_dispersion(ngram, token_freq, corpus_proportions):\n",
    "    \"\"\"\n",
    "    Computes the \"Dispersion\" variable for an ngram as the\n",
    "    KLD divergence between its occurrences in each corpus and\n",
    "    the overall corpus proportions.\n",
    "    :param ngram: The frequency of the ngram in each\n",
    "        corpus as a (corpus, frequency) tuple.\n",
    "    :param token_freq: The token frequency of the ngram,\n",
    "        used to transform frequencies into proportions.\n",
    "    :returns: Dispersion measure as a scalar.\n",
    "    \"\"\"\n",
    "    if not isinstance(corpus_proportions, pd.DataFrame):\n",
    "        corpus_proportions = pd.DataFrame.from_dict(\n",
    "            corpus_proportions, orient='index'\n",
    "        ).reset_index().rename(\n",
    "            columns={'index': 'corpus', 0: 'corpus_prop'}\n",
    "            )\n",
    "    ngram_props = [(corpus, freq / token_freq) for corpus, freq in ngram]\n",
    "    ngram_props = pd.DataFrame(ngram_props, columns=['corpus', 'ngram_prop'])\n",
    "    ngram_props = pd.merge(\n",
    "        corpus_proportions,\n",
    "        ngram_props,\n",
    "        on='corpus',\n",
    "        how='left'\n",
    "        ).fillna(0)\n",
    "    kld_props = compute_functions.get_kld(ngram_props['ngram_prop'].values,\n",
    "        ngram_props['corpus_prop'].values)\n",
    "    return kld_props\n",
    "# works\n",
    "dispersion = get_dispersion(trigram_freq, token_freq, corpus_proportions)"
   ]
  },
  {
   "cell_type": "code",
   "execution_count": null,
   "metadata": {},
   "outputs": [],
   "source": [
    "freqs_ngram_1 = [corpus_dict.get(comp_1, pd.Series(0)).get(comp_2, pd.Series(0)) for corpus_dict in forward_dict.values()]\n",
    "freqs_ngram_1 = sum(freqs_ngram_1, Counter())\n",
    "freqs_ngram_2 = [corpus_dict.get(comp_3, pd.Series(0)) for corpus_dict in backward_merged.values()]\n",
    "freqs_ngram_2 = sum(freqs_ngram_2, Counter())"
   ]
  },
  {
   "cell_type": "code",
   "execution_count": null,
   "metadata": {},
   "outputs": [],
   "source": [
    "# Ideally, same function for bigram and trigram with an if somewhere for this part\n",
    "freqs_ngram_1 = [Counter(dict(corpus_dict.get(comp_1, pd.Series(0)))) for corpus_dict in forward_dict.values()]\n",
    "freqs_ngram_2 = [FreqDist(dict(corpus_dict.get(comp_2, pd.Series(0)))) for corpus_dict in backward_dict.values()]\n",
    "# freqs_ngram_1 = sum(freqs_ngram_1, FreqDist())\n",
    "# freqs_ngram_2 = sum(freqs_ngram_2, FreqDist())"
   ]
  },
  {
   "cell_type": "code",
   "execution_count": 43,
   "metadata": {},
   "outputs": [
    {
     "ename": "AttributeError",
     "evalue": "'tuple' object has no attribute 'get'",
     "output_type": "error",
     "traceback": [
      "\u001b[1;31m---------------------------------------------------------------------------\u001b[0m",
      "\u001b[1;31mAttributeError\u001b[0m                            Traceback (most recent call last)",
      "Cell \u001b[1;32mIn[43], line 1\u001b[0m\n\u001b[1;32m----> 1\u001b[0m trigram_freq \u001b[38;5;241m=\u001b[39m [\u001b[43m(\u001b[49m\u001b[43mcorpus\u001b[49m\u001b[43m,\u001b[49m\u001b[43m \u001b[49m\u001b[43mcorpus_dict\u001b[49m\u001b[38;5;241;43m.\u001b[39;49m\u001b[43mget\u001b[49m\u001b[43m(\u001b[49m\u001b[43mcomp_1\u001b[49m\u001b[43m,\u001b[49m\u001b[43m \u001b[49m\u001b[43mpd\u001b[49m\u001b[38;5;241;43m.\u001b[39;49m\u001b[43mSeries\u001b[49m\u001b[43m(\u001b[49m\u001b[38;5;241;43m0\u001b[39;49m\u001b[43m)\u001b[49m\u001b[43m)\u001b[49m\u001b[38;5;241;43m.\u001b[39;49m\u001b[43mget\u001b[49m\u001b[43m(\u001b[49m\u001b[43mcomp_2\u001b[49m\u001b[43m,\u001b[49m\u001b[43m \u001b[49m\u001b[43mpd\u001b[49m\u001b[38;5;241;43m.\u001b[39;49m\u001b[43mSeries\u001b[49m\u001b[43m(\u001b[49m\u001b[38;5;241;43m0\u001b[39;49m\u001b[43m)\u001b[49m\u001b[43m)\u001b[49m\u001b[43m)\u001b[49m\u001b[38;5;241;43m.\u001b[39;49m\u001b[43mget\u001b[49m(comp_3) \u001b[38;5;28;01mfor\u001b[39;00m\n\u001b[0;32m      2\u001b[0m     corpus, corpus_dict \u001b[38;5;129;01min\u001b[39;00m forward_dict\u001b[38;5;241m.\u001b[39mitems()]\n\u001b[0;32m      3\u001b[0m \u001b[38;5;28mprint\u001b[39m(\u001b[38;5;124mf\u001b[39m\u001b[38;5;124m'\u001b[39m\u001b[38;5;124m<<\u001b[39m\u001b[38;5;132;01m{\u001b[39;00m\u001b[38;5;124m\"\u001b[39m\u001b[38;5;124m \u001b[39m\u001b[38;5;124m\"\u001b[39m\u001b[38;5;241m.\u001b[39mjoin([comp_1,\u001b[38;5;250m \u001b[39mcomp_2,\u001b[38;5;250m \u001b[39mcomp_3])\u001b[38;5;132;01m}\u001b[39;00m\u001b[38;5;124m>> is not in the corpus\u001b[39m\u001b[38;5;124m'\u001b[39m)\n",
      "\u001b[1;31mAttributeError\u001b[0m: 'tuple' object has no attribute 'get'"
     ]
    }
   ],
   "source": [
    "trigram_freq = [(corpus, corpus_dict.get(comp_1, pd.Series(0)).get(comp_2, pd.Series(0))).get(comp_3) for\n",
    "    corpus, corpus_dict in forward_dict.items()]\n",
    "print(f'<<{\" \".join([comp_1, comp_2, comp_3])}>> is not in the corpus')"
   ]
  },
  {
   "cell_type": "code",
   "execution_count": null,
   "metadata": {},
   "outputs": [],
   "source": [
    "    \"\"\"\n",
    "    Function for computing the MWU measures for a target ngram. \n",
    "    :param ngram: A string with the ngram to be analyzed.\n",
    "    :returns: A dictionary with all MWU measures obtained:\n",
    "        Token frequency, dispersion, type frequency for each slot,\n",
    "        entropy difference for each slot, both directions of \n",
    "        association.\n",
    "    \"\"\"\n",
    "    comps = ngram.split(' ')\n",
    "    comp_1 = comps[0]\n",
    "    comp_2 = comps[1]\n",
    "    # forward_dict = processing_corpus.BIGRAM_FW\n",
    "    # backward_dict = processing_corpus.BIGRAM_BW\n",
    "    bigram_freq = [(corpus, corpus_dict.get(comp_1, pd.Series(0)).get(comp_2, 0)) for\n",
    "        corpus, corpus_dict in forward_dict.items()]\n",
    "    # Token frequency\n",
    "    token_freq = sum(freqs[1] for freqs in bigram_freq)\n",
    "    if token_freq == 0:\n",
    "        if verbose:\n",
    "            print(f'<<{\" \".join([comp_1, comp_2, comp_3])}>> is not in the corpus')\n",
    "        return None\n",
    "    # Dispersion\n",
    "    dispersion = get_dispersion(bigram_freq, token_freq, corpus_proportions)\n",
    "\n",
    "    ## Need aggregate frequencies for the rest\n",
    "    freqs_ngram_1 = [FreqDist(dict(corpus_dict.get(comp_1, pd.Series(0)))) for corpus_dict in forward_dict.values()]\n",
    "    freqs_ngram_2 = [FreqDist(dict(corpus_dict.get(comp_2, pd.Series(0)))) for corpus_dict in backward_dict.values()]\n",
    "    freqs_ngram_1 = sum(freqs_ngram_1, FreqDist())\n",
    "    freqs_ngram_2 = sum(freqs_ngram_2, FreqDist())"
   ]
  }
 ],
 "metadata": {
  "kernelspec": {
   "display_name": "mwu_measures",
   "language": "python",
   "name": "python3"
  },
  "language_info": {
   "codemirror_mode": {
    "name": "ipython",
    "version": 3
   },
   "file_extension": ".py",
   "mimetype": "text/x-python",
   "name": "python",
   "nbconvert_exporter": "python",
   "pygments_lexer": "ipython3",
   "version": "3.13.0"
  }
 },
 "nbformat": 4,
 "nbformat_minor": 2
}

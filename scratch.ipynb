{
 "cells": [
  {
   "cell_type": "code",
   "execution_count": 1,
   "metadata": {},
   "outputs": [],
   "source": [
    "# # import re\n",
    "# from collections import defaultdict, Counter\n",
    "# # from itertools import groupby\n",
    "# # from nltk import flatten\n",
    "# # from nltk.util import trigrams as get_trigrams\n",
    "# from mwu_measures.preprocessing_corpus import clean_bnc_line, preprocess_bnc\n",
    "# # import mwu_measures\n",
    "# from mwu_measures.processing_corpus import Corpus\n",
    "import mwu_measures\n",
    "import mwu_measures.processing_corpus_sqlite\n",
    "from mwu_measures.compute_functions import min_max_norm\n",
    "from mwu_measures import compute_functions\n",
    "from mwu_measures import processing_corpus\n",
    "# from mwu_measures.mwu_functions import get_association, get_entropy_dif\n",
    "from collections import defaultdict, Counter\n",
    "# from nltk import FreqDist\n",
    "import numpy as np\n",
    "import pandas as pd"
   ]
  },
  {
   "cell_type": "code",
   "execution_count": 2,
   "metadata": {},
   "outputs": [
    {
     "name": "stdout",
     "output_type": "stream",
     "text": [
      "8928 lines processed\n",
      "16500 lines processed\n",
      "25755 lines processed\n",
      "34338 lines processed\n",
      "42803 lines processed\n",
      "52217 lines processed\n",
      "61689 lines processed\n",
      "71326 lines processed\n",
      "80991 lines processed\n",
      "90366 lines processed\n",
      "98040 lines processed\n",
      "105999 lines processed\n",
      "114462 lines processed\n",
      "123188 lines processed\n",
      "130358 lines processed\n",
      "137924 lines processed\n",
      "147611 lines processed\n",
      "157164 lines processed\n",
      "168734 lines processed\n",
      "178303 lines processed\n",
      "188473 lines processed\n",
      "196901 lines processed\n",
      "206573 lines processed\n",
      "220860 lines processed\n",
      "237194 lines processed\n",
      "250060 lines processed\n",
      "261943 lines processed\n",
      "270684 lines processed\n",
      "278913 lines processed\n",
      "287810 lines processed\n",
      "296127 lines processed\n",
      "301046 lines processed\n"
     ]
    }
   ],
   "source": [
    "this_corpus = mwu_measures.processing_corpus_sqlite.process_corpus(corpus_name = 'bnc', corpus_dir='small_corpus.txt', chunk_size=1000000, verbose=True)"
   ]
  },
  {
   "cell_type": "code",
   "execution_count": 3,
   "metadata": {},
   "outputs": [],
   "source": [
    "this_corpus.create_totals()"
   ]
  },
  {
   "cell_type": "code",
   "execution_count": 4,
   "metadata": {},
   "outputs": [],
   "source": [
    "this_corpus.set_getting_functions()"
   ]
  },
  {
   "cell_type": "code",
   "execution_count": null,
   "metadata": {},
   "outputs": [
    {
     "ename": "AttributeError",
     "evalue": "'Corpus' object has no attribute 'get_unigram_distribution'",
     "output_type": "error",
     "traceback": [
      "\u001b[1;31m---------------------------------------------------------------------------\u001b[0m",
      "\u001b[1;31mAttributeError\u001b[0m                            Traceback (most recent call last)",
      "Cell \u001b[1;32mIn[10], line 1\u001b[0m\n\u001b[1;32m----> 1\u001b[0m \u001b[43mthis_corpus\u001b[49m\u001b[38;5;241;43m.\u001b[39;49m\u001b[43mget_unigram_distribution\u001b[49m(\u001b[38;5;124m'\u001b[39m\u001b[38;5;124mmost\u001b[39m\u001b[38;5;124m'\u001b[39m)\n",
      "\u001b[1;31mAttributeError\u001b[0m: 'Corpus' object has no attribute 'get_unigram_distribution'"
     ]
    }
   ],
   "source": [
    "this_corpus.get_unigram('most')"
   ]
  },
  {
   "cell_type": "code",
   "execution_count": null,
   "metadata": {},
   "outputs": [],
   "source": [
    "get_scratch = this_corpus.corpus_conn.prepare(\"\"\"\n",
    "                                 PREPARE get_fw_bigram AS\n",
    "                                 SELECT corpus, ug_1, ug_2, SUM(freq) AS freq \n",
    "                                 FROM trigram_db WHERE ug_1 = $1 \n",
    "                                 GROUP BY corpus, ug_1, ug_2\n",
    "                                 \"\"\")"
   ]
  },
  {
   "cell_type": "code",
   "execution_count": null,
   "metadata": {},
   "outputs": [],
   "source": []
  },
  {
   "cell_type": "code",
   "execution_count": null,
   "metadata": {},
   "outputs": [],
   "source": [
    "this_corpus.get_fw_distribution(\"most of\")"
   ]
  },
  {
   "cell_type": "code",
   "execution_count": null,
   "metadata": {},
   "outputs": [],
   "source": [
    "mwu_examples = pd.read_csv('MultiwordExpression_Concreteness_Ratings.csv')\n",
    "mwu_examples['length'] = mwu_examples['Expression'].apply(lambda x: len(x.split()))\n",
    "mwu_examples = mwu_examples.loc[(mwu_examples['length'] == 2) | (mwu_examples['length'] == 3)]\n",
    "mwu_examples['Expression'] = mwu_examples['Expression'].apply(lambda x: x.lower())\n",
    "mwu_examples = mwu_examples.sample(10000)"
   ]
  },
  {
   "cell_type": "code",
   "execution_count": null,
   "metadata": {},
   "outputs": [],
   "source": [
    "ngram_list = mwu_examples.Expression\n",
    "bigrams = [ngram.split() for ngram in ngram_list if len(ngram.split()) == 2]\n",
    "trigrams = [ngram.split() for ngram in ngram_list if len(ngram.split()) == 3]"
   ]
  },
  {
   "cell_type": "code",
   "execution_count": null,
   "metadata": {},
   "outputs": [],
   "source": [
    "trigram_query = pd.DataFrame(trigrams, columns=['ug_1', 'ug_2', 'ug_3'])\n",
    "this_corpus.corpus_conn.execute(\"CREATE TEMPORARY TABLE trigram_query (ug_1 TEXT, ug_2 TEXT, ug_3 TEXT)\")\n",
    "this_corpus.corpus_conn.register('trigram_query_list', trigram_query)\n",
    "this_corpus.corpus_conn.execute(\"INSERT INTO trigram_query SELECT * FROM trigram_query_list\")"
   ]
  },
  {
   "cell_type": "code",
   "execution_count": null,
   "metadata": {},
   "outputs": [],
   "source": [
    "trigram_per_corpus = this_corpus.corpus_conn.execute(\"\"\"\n",
    "    SELECT * FROM trigram_db \n",
    "    WHERE (ug_1 IN (SELECT ug_1 FROM trigram_query) AND ug_2 IN (SELECT ug_2 FROM trigram_query)) OR (ug_3 IN (SELECT ug_3 FROM trigram_query))\n",
    "\"\"\").fetch_df()\n",
    "# trigram_total = this_corpus.corpus_conn.execute(\"\"\"\n",
    "#     SELECT ug_1, ug_2, ug_3, sum(freq) as freq FROM trigram_db \n",
    "#     WHERE (ug_1 IN (SELECT ug_1 FROM trigram_query) AND ug_2 IN (SELECT ug_2 FROM trigram_query)) OR (ug_3 IN (SELECT ug_3 FROM trigram_query))\n",
    "#     GROUP BY (ug_1, ug_2, ug_3)\n",
    "# \"\"\").fetch_df()"
   ]
  },
  {
   "cell_type": "code",
   "execution_count": null,
   "metadata": {},
   "outputs": [],
   "source": [
    "bigram_query = pd.DataFrame(bigrams, columns=['ug_1', 'ug_2'])\n",
    "this_corpus.corpus_conn.execute(\"CREATE TEMPORARY TABLE bigram_query (ug_1 TEXT, ug_2 TEXT)\")\n",
    "this_corpus.corpus_conn.register('bigram_query_list', bigram_query)\n",
    "this_corpus.corpus_conn.execute(\"INSERT INTO bigram_query SELECT * FROM bigram_query_list\")"
   ]
  },
  {
   "cell_type": "code",
   "execution_count": null,
   "metadata": {},
   "outputs": [],
   "source": [
    "# this_corpus.corpus_conn.execute(\"DROP TABLE bigram_query\")"
   ]
  },
  {
   "cell_type": "code",
   "execution_count": null,
   "metadata": {},
   "outputs": [],
   "source": [
    "bigram_per_corpus = this_corpus.corpus_conn.execute(\"\"\"\n",
    "    SELECT corpus, ug_1, ug_2, sum(freq) AS freq FROM trigram_db \n",
    "    WHERE (ug_1 IN (SELECT ug_1 FROM bigram_query)) OR (ug_2 IN (SELECT ug_2 FROM bigram_query))\n",
    "    GROUP BY corpus, ug_1, ug_2\n",
    "\"\"\").fetch_df()\n",
    "# bigram_total = this_corpus.corpus_conn.execute(\"\"\"\n",
    "#     SELECT ug_1, ug_2, sum(freq) AS freq FROM trigram_db \n",
    "#     WHERE (ug_1 IN (SELECT ug_1 FROM bigram_query)) OR (ug_2 IN (SELECT ug_2 FROM bigram_query))\n",
    "#     GROUP BY ug_1, ug_2\n",
    "# \"\"\").fetch_df()"
   ]
  },
  {
   "cell_type": "code",
   "execution_count": null,
   "metadata": {},
   "outputs": [],
   "source": [
    "# takes too long, filter DF first\n",
    "\n",
    "fw_dists = {ngram_1: {corpus:  Counter(dict(zip(data['ug_2'], data['freq']))) for corpus, data in group.groupby('corpus')} for ngram_1, group in bigram_per_corpus.groupby('ug_1')}"
   ]
  },
  {
   "cell_type": "code",
   "execution_count": null,
   "metadata": {},
   "outputs": [],
   "source": [
    "fw_dists['A']"
   ]
  },
  {
   "cell_type": "code",
   "execution_count": null,
   "metadata": {},
   "outputs": [],
   "source": [
    "this_corpus.corpus_conn.execute(\"SELECT * FROM trigram_db ORDER BY corpus\").fetch_df()"
   ]
  },
  {
   "cell_type": "code",
   "execution_count": null,
   "metadata": {},
   "outputs": [],
   "source": [
    "this_corpus = mwu_measures.processing_corpus.process_corpus(corpus_name='bnc', corpus_dir='small_corpus.txt', verbose=True, chunk_size=1000000)\n",
    "this_corpus.create_totals()"
   ]
  },
  {
   "cell_type": "code",
   "execution_count": null,
   "metadata": {},
   "outputs": [],
   "source": []
  }
 ],
 "metadata": {
  "kernelspec": {
   "display_name": "mwu_measures",
   "language": "python",
   "name": "python3"
  },
  "language_info": {
   "codemirror_mode": {
    "name": "ipython",
    "version": 3
   },
   "file_extension": ".py",
   "mimetype": "text/x-python",
   "name": "python",
   "nbconvert_exporter": "python",
   "pygments_lexer": "ipython3",
   "version": "3.13.0"
  }
 },
 "nbformat": 4,
 "nbformat_minor": 2
}

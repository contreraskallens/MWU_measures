{
 "cells": [
  {
   "cell_type": "code",
   "execution_count": 1,
   "metadata": {},
   "outputs": [],
   "source": [
    "# # import re\n",
    "# from collections import defaultdict, Counter\n",
    "# # from itertools import groupby\n",
    "# # from nltk import flatten\n",
    "# # from nltk.util import trigrams as get_trigrams\n",
    "# from mwu_measures.preprocessing_corpus import clean_bnc_line, preprocess_bnc\n",
    "# # import mwu_measures\n",
    "# from mwu_measures.processing_corpus import Corpus\n",
    "import mwu_measures\n",
    "from mwu_measures.compute_functions import min_max_norm\n",
    "from mwu_measures import compute_functions\n",
    "from mwu_measures import preprocessing_corpus\n",
    "from mwu_measures import processing_corpus\n",
    "# from mwu_measures.mwu_functions import get_association, get_entropy_dif\n",
    "from collections import defaultdict, Counter\n",
    "# from nltk import FreqDist\n",
    "import numpy as np\n",
    "import pandas as pd\n",
    "import json"
   ]
  },
  {
   "cell_type": "code",
   "execution_count": 2,
   "metadata": {},
   "outputs": [],
   "source": [
    "# this_corpus = mwu_measures.processing_corpus.process_corpus(corpus_name = 'bnc', corpus_dir='small_corpus.txt', chunk_size=1000000, verbose=True)"
   ]
  },
  {
   "cell_type": "code",
   "execution_count": 3,
   "metadata": {},
   "outputs": [],
   "source": [
    "this_corpus = processing_corpus.Corpus('bnc')"
   ]
  },
  {
   "cell_type": "code",
   "execution_count": 4,
   "metadata": {},
   "outputs": [],
   "source": [
    "with open('small_corpus.txt', 'r', encoding=\"utf-8\") as corpus_file:\n",
    "    i = 0\n",
    "    raw_lines = corpus_file.readlines(100000)\n",
    "    ngram_dicts = preprocessing_corpus.preprocess_bnc(raw_lines)"
   ]
  },
  {
   "cell_type": "code",
   "execution_count": null,
   "metadata": {},
   "outputs": [],
   "source": [
    "%timeit this_corpus.add_chunk(ngram_dicts)"
   ]
  },
  {
   "cell_type": "code",
   "execution_count": null,
   "metadata": {},
   "outputs": [],
   "source": [
    "%timeitthis_corpus.add_chunk_polars(ngram_dicts)"
   ]
  },
  {
   "cell_type": "code",
   "execution_count": null,
   "metadata": {},
   "outputs": [],
   "source": [
    "this_corpus.trigram_pl"
   ]
  },
  {
   "cell_type": "code",
   "execution_count": null,
   "metadata": {},
   "outputs": [],
   "source": []
  }
 ],
 "metadata": {
  "kernelspec": {
   "display_name": "mwu_measures",
   "language": "python",
   "name": "python3"
  },
  "language_info": {
   "codemirror_mode": {
    "name": "ipython",
    "version": 3
   },
   "file_extension": ".py",
   "mimetype": "text/x-python",
   "name": "python",
   "nbconvert_exporter": "python",
   "pygments_lexer": "ipython3",
   "version": "3.13.0"
  }
 },
 "nbformat": 4,
 "nbformat_minor": 2
}
